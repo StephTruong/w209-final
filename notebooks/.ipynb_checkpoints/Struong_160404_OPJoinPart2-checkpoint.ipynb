{
 "cells": [
  {
   "cell_type": "markdown",
   "metadata": {},
   "source": [
    "# Open payment - PartD Join\n",
    "This notebook shows the process to join the data from the open payment database and data from the PartD prescriber database. See previous notebook for part1. We try to improve the join by normalizing the drug name. A table of all drug name with NDC drug ID has been loaded in NDCDrug table."
   ]
  },
  {
   "cell_type": "code",
   "execution_count": 15,
   "metadata": {
    "collapsed": false
   },
   "outputs": [
    {
     "name": "stdout",
     "output_type": "stream",
     "text": [
      "The sql extension is already loaded. To reload it, use:\n",
      "  %reload_ext sql\n"
     ]
    }
   ],
   "source": [
    "%load_ext sql"
   ]
  },
  {
   "cell_type": "code",
   "execution_count": 12,
   "metadata": {
    "collapsed": false
   },
   "outputs": [
    {
     "data": {
      "text/plain": [
       "u'Connected: None@final'"
      ]
     },
     "execution_count": 12,
     "metadata": {},
     "output_type": "execute_result"
    }
   ],
   "source": [
    "%sql mysql:///final"
   ]
  },
  {
   "cell_type": "markdown",
   "metadata": {},
   "source": [
    "## Testing"
   ]
  },
  {
   "cell_type": "code",
   "execution_count": 7,
   "metadata": {
    "collapsed": false
   },
   "outputs": [
    {
     "name": "stdout",
     "output_type": "stream",
     "text": [
      "1 rows affected.\n"
     ]
    },
    {
     "data": {
      "text/html": [
       "<table>\n",
       "    <tr>\n",
       "        <th>count(*)</th>\n",
       "    </tr>\n",
       "    <tr>\n",
       "        <td>4242273</td>\n",
       "    </tr>\n",
       "</table>"
      ],
      "text/plain": [
       "[(4242273L,)]"
      ]
     },
     "execution_count": 7,
     "metadata": {},
     "output_type": "execute_result"
    }
   ],
   "source": [
    "%%sql\n",
    "select count(*) from OpenPaymentPrescrJoin2 where isnull(ProviderFirstName)\n"
   ]
  },
  {
   "cell_type": "code",
   "execution_count": 8,
   "metadata": {
    "collapsed": false
   },
   "outputs": [
    {
     "name": "stdout",
     "output_type": "stream",
     "text": [
      "4787824 rows affected.\n",
      "2887 rows affected.\n"
     ]
    },
    {
     "data": {
      "text/plain": [
       "[]"
      ]
     },
     "execution_count": 8,
     "metadata": {},
     "output_type": "execute_result"
    }
   ],
   "source": [
    "%%sql\n",
    "alter table PaymentDetailGeneralALL_Aggregated add column drugFW varchar(20);\n",
    "alter table NDCDrug add column drugFW varchar(20);"
   ]
  },
  {
   "cell_type": "code",
   "execution_count": 9,
   "metadata": {
    "collapsed": false,
    "scrolled": true
   },
   "outputs": [
    {
     "name": "stdout",
     "output_type": "stream",
     "text": [
      "4787824 rows affected.\n",
      "2887 rows affected.\n",
      "(_mysql_exceptions.ProgrammingError) (1064, \"You have an error in your SQL syntax; check the manual that corresponds to your MariaDB server version for the right syntax to use near 'create index firstword on PaymentDetailGeneralALL_Aggregated(NameOfAssociatedCov' at line 2\") [SQL: u'create index firstword on NDCDrug(drugFW)\\ncreate index firstword on PaymentDetailGeneralALL_Aggregated(NameOfAssociatedCoveredDrugOrBiological1)']\n"
     ]
    },
    {
     "name": "stderr",
     "output_type": "stream",
     "text": [
      "/usr/lib64/python2.7/site-packages/sqlalchemy/engine/default.py:450: Warning: Data truncated for column 'drugFW' at row 69\n",
      "  cursor.execute(statement, parameters)\n",
      "/usr/lib64/python2.7/site-packages/sqlalchemy/engine/default.py:450: Warning: Data truncated for column 'drugFW' at row 3919\n",
      "  cursor.execute(statement, parameters)\n",
      "/usr/lib64/python2.7/site-packages/sqlalchemy/engine/default.py:450: Warning: Data truncated for column 'drugFW' at row 46183\n",
      "  cursor.execute(statement, parameters)\n",
      "/usr/lib64/python2.7/site-packages/sqlalchemy/engine/default.py:450: Warning: Data truncated for column 'drugFW' at row 53592\n",
      "  cursor.execute(statement, parameters)\n",
      "/usr/lib64/python2.7/site-packages/sqlalchemy/engine/default.py:450: Warning: Data truncated for column 'drugFW' at row 55732\n",
      "  cursor.execute(statement, parameters)\n",
      "/usr/lib64/python2.7/site-packages/sqlalchemy/engine/default.py:450: Warning: Data truncated for column 'drugFW' at row 74172\n",
      "  cursor.execute(statement, parameters)\n",
      "/usr/lib64/python2.7/site-packages/sqlalchemy/engine/default.py:450: Warning: Data truncated for column 'drugFW' at row 84177\n",
      "  cursor.execute(statement, parameters)\n",
      "/usr/lib64/python2.7/site-packages/sqlalchemy/engine/default.py:450: Warning: Data truncated for column 'drugFW' at row 86252\n",
      "  cursor.execute(statement, parameters)\n",
      "/usr/lib64/python2.7/site-packages/sqlalchemy/engine/default.py:450: Warning: Data truncated for column 'drugFW' at row 89860\n",
      "  cursor.execute(statement, parameters)\n",
      "/usr/lib64/python2.7/site-packages/sqlalchemy/engine/default.py:450: Warning: Data truncated for column 'drugFW' at row 90055\n",
      "  cursor.execute(statement, parameters)\n",
      "/usr/lib64/python2.7/site-packages/sqlalchemy/engine/default.py:450: Warning: Data truncated for column 'drugFW' at row 90359\n",
      "  cursor.execute(statement, parameters)\n",
      "/usr/lib64/python2.7/site-packages/sqlalchemy/engine/default.py:450: Warning: Data truncated for column 'drugFW' at row 98144\n",
      "  cursor.execute(statement, parameters)\n",
      "/usr/lib64/python2.7/site-packages/sqlalchemy/engine/default.py:450: Warning: Data truncated for column 'drugFW' at row 100173\n",
      "  cursor.execute(statement, parameters)\n",
      "/usr/lib64/python2.7/site-packages/sqlalchemy/engine/default.py:450: Warning: Data truncated for column 'drugFW' at row 109929\n",
      "  cursor.execute(statement, parameters)\n",
      "/usr/lib64/python2.7/site-packages/sqlalchemy/engine/default.py:450: Warning: Data truncated for column 'drugFW' at row 114603\n",
      "  cursor.execute(statement, parameters)\n",
      "/usr/lib64/python2.7/site-packages/sqlalchemy/engine/default.py:450: Warning: Data truncated for column 'drugFW' at row 115370\n",
      "  cursor.execute(statement, parameters)\n",
      "/usr/lib64/python2.7/site-packages/sqlalchemy/engine/default.py:450: Warning: Data truncated for column 'drugFW' at row 115376\n",
      "  cursor.execute(statement, parameters)\n",
      "/usr/lib64/python2.7/site-packages/sqlalchemy/engine/default.py:450: Warning: Data truncated for column 'drugFW' at row 124836\n",
      "  cursor.execute(statement, parameters)\n",
      "/usr/lib64/python2.7/site-packages/sqlalchemy/engine/default.py:450: Warning: Data truncated for column 'drugFW' at row 124903\n",
      "  cursor.execute(statement, parameters)\n",
      "/usr/lib64/python2.7/site-packages/sqlalchemy/engine/default.py:450: Warning: Data truncated for column 'drugFW' at row 125255\n",
      "  cursor.execute(statement, parameters)\n",
      "/usr/lib64/python2.7/site-packages/sqlalchemy/engine/default.py:450: Warning: Data truncated for column 'drugFW' at row 135712\n",
      "  cursor.execute(statement, parameters)\n",
      "/usr/lib64/python2.7/site-packages/sqlalchemy/engine/default.py:450: Warning: Data truncated for column 'drugFW' at row 148645\n",
      "  cursor.execute(statement, parameters)\n",
      "/usr/lib64/python2.7/site-packages/sqlalchemy/engine/default.py:450: Warning: Data truncated for column 'drugFW' at row 192674\n",
      "  cursor.execute(statement, parameters)\n",
      "/usr/lib64/python2.7/site-packages/sqlalchemy/engine/default.py:450: Warning: Data truncated for column 'drugFW' at row 194562\n",
      "  cursor.execute(statement, parameters)\n",
      "/usr/lib64/python2.7/site-packages/sqlalchemy/engine/default.py:450: Warning: Data truncated for column 'drugFW' at row 196060\n",
      "  cursor.execute(statement, parameters)\n",
      "/usr/lib64/python2.7/site-packages/sqlalchemy/engine/default.py:450: Warning: Data truncated for column 'drugFW' at row 203951\n",
      "  cursor.execute(statement, parameters)\n",
      "/usr/lib64/python2.7/site-packages/sqlalchemy/engine/default.py:450: Warning: Data truncated for column 'drugFW' at row 207309\n",
      "  cursor.execute(statement, parameters)\n",
      "/usr/lib64/python2.7/site-packages/sqlalchemy/engine/default.py:450: Warning: Data truncated for column 'drugFW' at row 226496\n",
      "  cursor.execute(statement, parameters)\n",
      "/usr/lib64/python2.7/site-packages/sqlalchemy/engine/default.py:450: Warning: Data truncated for column 'drugFW' at row 227116\n",
      "  cursor.execute(statement, parameters)\n",
      "/usr/lib64/python2.7/site-packages/sqlalchemy/engine/default.py:450: Warning: Data truncated for column 'drugFW' at row 233068\n",
      "  cursor.execute(statement, parameters)\n",
      "/usr/lib64/python2.7/site-packages/sqlalchemy/engine/default.py:450: Warning: Data truncated for column 'drugFW' at row 233115\n",
      "  cursor.execute(statement, parameters)\n",
      "/usr/lib64/python2.7/site-packages/sqlalchemy/engine/default.py:450: Warning: Data truncated for column 'drugFW' at row 236087\n",
      "  cursor.execute(statement, parameters)\n",
      "/usr/lib64/python2.7/site-packages/sqlalchemy/engine/default.py:450: Warning: Data truncated for column 'drugFW' at row 237130\n",
      "  cursor.execute(statement, parameters)\n",
      "/usr/lib64/python2.7/site-packages/sqlalchemy/engine/default.py:450: Warning: Data truncated for column 'drugFW' at row 240307\n",
      "  cursor.execute(statement, parameters)\n",
      "/usr/lib64/python2.7/site-packages/sqlalchemy/engine/default.py:450: Warning: Data truncated for column 'drugFW' at row 244383\n",
      "  cursor.execute(statement, parameters)\n",
      "/usr/lib64/python2.7/site-packages/sqlalchemy/engine/default.py:450: Warning: Data truncated for column 'drugFW' at row 253712\n",
      "  cursor.execute(statement, parameters)\n",
      "/usr/lib64/python2.7/site-packages/sqlalchemy/engine/default.py:450: Warning: Data truncated for column 'drugFW' at row 261130\n",
      "  cursor.execute(statement, parameters)\n",
      "/usr/lib64/python2.7/site-packages/sqlalchemy/engine/default.py:450: Warning: Data truncated for column 'drugFW' at row 267078\n",
      "  cursor.execute(statement, parameters)\n",
      "/usr/lib64/python2.7/site-packages/sqlalchemy/engine/default.py:450: Warning: Data truncated for column 'drugFW' at row 268692\n",
      "  cursor.execute(statement, parameters)\n",
      "/usr/lib64/python2.7/site-packages/sqlalchemy/engine/default.py:450: Warning: Data truncated for column 'drugFW' at row 272510\n",
      "  cursor.execute(statement, parameters)\n",
      "/usr/lib64/python2.7/site-packages/sqlalchemy/engine/default.py:450: Warning: Data truncated for column 'drugFW' at row 276400\n",
      "  cursor.execute(statement, parameters)\n",
      "/usr/lib64/python2.7/site-packages/sqlalchemy/engine/default.py:450: Warning: Data truncated for column 'drugFW' at row 280228\n",
      "  cursor.execute(statement, parameters)\n",
      "/usr/lib64/python2.7/site-packages/sqlalchemy/engine/default.py:450: Warning: Data truncated for column 'drugFW' at row 302512\n",
      "  cursor.execute(statement, parameters)\n",
      "/usr/lib64/python2.7/site-packages/sqlalchemy/engine/default.py:450: Warning: Data truncated for column 'drugFW' at row 315308\n",
      "  cursor.execute(statement, parameters)\n",
      "/usr/lib64/python2.7/site-packages/sqlalchemy/engine/default.py:450: Warning: Data truncated for column 'drugFW' at row 318302\n",
      "  cursor.execute(statement, parameters)\n",
      "/usr/lib64/python2.7/site-packages/sqlalchemy/engine/default.py:450: Warning: Data truncated for column 'drugFW' at row 324757\n",
      "  cursor.execute(statement, parameters)\n",
      "/usr/lib64/python2.7/site-packages/sqlalchemy/engine/default.py:450: Warning: Data truncated for column 'drugFW' at row 330110\n",
      "  cursor.execute(statement, parameters)\n",
      "/usr/lib64/python2.7/site-packages/sqlalchemy/engine/default.py:450: Warning: Data truncated for column 'drugFW' at row 351674\n",
      "  cursor.execute(statement, parameters)\n",
      "/usr/lib64/python2.7/site-packages/sqlalchemy/engine/default.py:450: Warning: Data truncated for column 'drugFW' at row 353179\n",
      "  cursor.execute(statement, parameters)\n",
      "/usr/lib64/python2.7/site-packages/sqlalchemy/engine/default.py:450: Warning: Data truncated for column 'drugFW' at row 363604\n",
      "  cursor.execute(statement, parameters)\n",
      "/usr/lib64/python2.7/site-packages/sqlalchemy/engine/default.py:450: Warning: Data truncated for column 'drugFW' at row 365355\n",
      "  cursor.execute(statement, parameters)\n",
      "/usr/lib64/python2.7/site-packages/sqlalchemy/engine/default.py:450: Warning: Data truncated for column 'drugFW' at row 371950\n",
      "  cursor.execute(statement, parameters)\n",
      "/usr/lib64/python2.7/site-packages/sqlalchemy/engine/default.py:450: Warning: Data truncated for column 'drugFW' at row 376864\n",
      "  cursor.execute(statement, parameters)\n",
      "/usr/lib64/python2.7/site-packages/sqlalchemy/engine/default.py:450: Warning: Data truncated for column 'drugFW' at row 379828\n",
      "  cursor.execute(statement, parameters)\n",
      "/usr/lib64/python2.7/site-packages/sqlalchemy/engine/default.py:450: Warning: Data truncated for column 'drugFW' at row 408817\n",
      "  cursor.execute(statement, parameters)\n",
      "/usr/lib64/python2.7/site-packages/sqlalchemy/engine/default.py:450: Warning: Data truncated for column 'drugFW' at row 408819\n",
      "  cursor.execute(statement, parameters)\n",
      "/usr/lib64/python2.7/site-packages/sqlalchemy/engine/default.py:450: Warning: Data truncated for column 'drugFW' at row 421650\n",
      "  cursor.execute(statement, parameters)\n",
      "/usr/lib64/python2.7/site-packages/sqlalchemy/engine/default.py:450: Warning: Data truncated for column 'drugFW' at row 438840\n",
      "  cursor.execute(statement, parameters)\n",
      "/usr/lib64/python2.7/site-packages/sqlalchemy/engine/default.py:450: Warning: Data truncated for column 'drugFW' at row 439327\n",
      "  cursor.execute(statement, parameters)\n",
      "/usr/lib64/python2.7/site-packages/sqlalchemy/engine/default.py:450: Warning: Data truncated for column 'drugFW' at row 445970\n",
      "  cursor.execute(statement, parameters)\n",
      "/usr/lib64/python2.7/site-packages/sqlalchemy/engine/default.py:450: Warning: Data truncated for column 'drugFW' at row 450456\n",
      "  cursor.execute(statement, parameters)\n",
      "/usr/lib64/python2.7/site-packages/sqlalchemy/engine/default.py:450: Warning: Data truncated for column 'drugFW' at row 451095\n",
      "  cursor.execute(statement, parameters)\n",
      "/usr/lib64/python2.7/site-packages/sqlalchemy/engine/default.py:450: Warning: Data truncated for column 'drugFW' at row 483570\n",
      "  cursor.execute(statement, parameters)\n",
      "/usr/lib64/python2.7/site-packages/sqlalchemy/engine/default.py:450: Warning: Data truncated for column 'drugFW' at row 493330\n",
      "  cursor.execute(statement, parameters)\n",
      "/usr/lib64/python2.7/site-packages/sqlalchemy/engine/default.py:450: Warning: Data truncated for column 'drugFW' at row 1911\n",
      "  cursor.execute(statement, parameters)\n",
      "/usr/lib64/python2.7/site-packages/sqlalchemy/engine/default.py:450: Warning: Data truncated for column 'drugFW' at row 2712\n",
      "  cursor.execute(statement, parameters)\n",
      "/usr/lib64/python2.7/site-packages/sqlalchemy/engine/default.py:450: Warning: Data truncated for column 'drugFW' at row 2801\n",
      "  cursor.execute(statement, parameters)\n"
     ]
    }
   ],
   "source": [
    "%%sql\n",
    "update PaymentDetailGeneralALL_Aggregated set drugFW =split_str(NameOfAssociatedCoveredDrugOrBiological1,' ',1);\n",
    "update NDCDrug set drugFW =split_str(PROPRIETARYNAME,' ',1);"
   ]
  },
  {
   "cell_type": "code",
   "execution_count": 13,
   "metadata": {
    "collapsed": false
   },
   "outputs": [
    {
     "name": "stdout",
     "output_type": "stream",
     "text": [
      "0 rows affected.\n",
      "0 rows affected.\n"
     ]
    },
    {
     "data": {
      "text/plain": [
       "[]"
      ]
     },
     "execution_count": 13,
     "metadata": {},
     "output_type": "execute_result"
    }
   ],
   "source": [
    "%%sql\n",
    "create index firstword on NDCDrug(drugFW);\n",
    "create index firstword on PaymentDetailGeneralALL_Aggregated(drugFW);\n"
   ]
  },
  {
   "cell_type": "code",
   "execution_count": 14,
   "metadata": {
    "collapsed": false,
    "scrolled": true
   },
   "outputs": [
    {
     "name": "stdout",
     "output_type": "stream",
     "text": [
      "434798 rows affected.\n"
     ]
    },
    {
     "data": {
      "text/plain": [
       "[]"
      ]
     },
     "execution_count": 14,
     "metadata": {},
     "output_type": "execute_result"
    }
   ],
   "source": [
    "%%sql\n",
    "update PaymentDetailGeneralALL_Aggregated as t1, NDCDrug as t2 set drugNorm=PRODUCTNDC where t1.drugFW =  t2.drugFW and isnull(drugNorm)"
   ]
  },
  {
   "cell_type": "code",
   "execution_count": 27,
   "metadata": {
    "collapsed": false
   },
   "outputs": [
    {
     "name": "stdout",
     "output_type": "stream",
     "text": [
      "1 rows affected.\n"
     ]
    },
    {
     "data": {
      "text/html": [
       "<table>\n",
       "    <tr>\n",
       "        <th>count(NameOfAssociatedCoveredDrugOrBiological1)</th>\n",
       "    </tr>\n",
       "    <tr>\n",
       "        <td>2701880</td>\n",
       "    </tr>\n",
       "</table>"
      ],
      "text/plain": [
       "[(2701880L,)]"
      ]
     },
     "execution_count": 27,
     "metadata": {},
     "output_type": "execute_result"
    }
   ],
   "source": [
    "%%sql\n",
    "select distinct count(NameOfAssociatedCoveredDrugOrBiological1) from PaymentDetailGeneralALL_Aggregated where not(isnull(drugNorm)) and PhysicianLastName <>\" \" ;"
   ]
  }
 ],
 "metadata": {
  "kernelspec": {
   "display_name": "Python 2",
   "language": "python",
   "name": "python2"
  },
  "language_info": {
   "codemirror_mode": {
    "name": "ipython",
    "version": 2
   },
   "file_extension": ".py",
   "mimetype": "text/x-python",
   "name": "python",
   "nbconvert_exporter": "python",
   "pygments_lexer": "ipython2",
   "version": "2.7.5"
  }
 },
 "nbformat": 4,
 "nbformat_minor": 0
}
