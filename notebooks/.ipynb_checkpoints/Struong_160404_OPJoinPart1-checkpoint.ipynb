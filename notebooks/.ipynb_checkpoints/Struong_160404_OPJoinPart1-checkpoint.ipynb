{
 "cells": [
  {
   "cell_type": "markdown",
   "metadata": {},
   "source": [
    "# Open payment - PartD Join\n",
    "This notebook shows the process to join the data from the open payment database and data from the PartD prescriber database. "
   ]
  },
  {
   "cell_type": "code",
   "execution_count": null,
   "metadata": {
    "collapsed": true
   },
   "outputs": [],
   "source": [
    "%load_ext sql"
   ]
  },
  {
   "cell_type": "code",
   "execution_count": null,
   "metadata": {
    "collapsed": true
   },
   "outputs": [],
   "source": [
    "%sql mysql:///final"
   ]
  },
  {
   "cell_type": "markdown",
   "metadata": {},
   "source": [
    "### Normalize First name and Last Name with metaphone\n",
    "To get rid of mispelling, we convert the physician's name into a code representing their pronunciation. https://github.com/AtomBoy/double-metaphone"
   ]
  },
  {
   "cell_type": "code",
   "execution_count": null,
   "metadata": {
    "collapsed": true
   },
   "outputs": [],
   "source": [
    "%%sql\n",
    "source metaphone.sql\n",
    "-- test out metaphone\n",
    "select dm(ProviderLastOrOrgName),ProviderLastOrOrgName from PartDPrescriberDrugData limit 10;\n"
   ]
  },
  {
   "cell_type": "code",
   "execution_count": null,
   "metadata": {
    "collapsed": true
   },
   "outputs": [],
   "source": [
    "%%sql\n",
    "-- Add extra column to store the metaphones\n",
    "ALTER TABLE PartDPrescriberDrugData ADD ProviderLastNameDM varchar(20),ProviderFirstNameDM varchar(20);\n",
    "ALTER TABLE PaymentDetailGeneralALL ADD PhysicianLastNameDM varchar(20),PhysicianFirstNameDM varchar(20);\n",
    "\n",
    "-- update the new fields with metaphones of lastname and firstname of provider/physican\n",
    "update PartDPrescriberDrugData set ProviderLastNameDM= dm(ProviderLastOrOrgName),  ProviderFirstNameDM=dm(ProviderFirstName);\n",
    "update PaymentDetailGeneralALL set PhysicianFirstNameDM= dm(PhysicianFirstName),  PhysicianLastNameDM= dm(PhysicianLastName);\n",
    "\n",
    "CREATE INDEX nameMetaph ON  PaymentDetailGeneralALL PhysicianFirstNameDM,PhysicianLastNameDM);\n",
    "CREATE INDEX nameMetaph ON PartDPrescriberDrugData(ProviderFirstNameDM,ProviderLastNameDM);\n",
    "\n"
   ]
  },
  {
   "cell_type": "markdown",
   "metadata": {},
   "source": [
    "### Create aggregate table for Part D prescription data"
   ]
  },
  {
   "cell_type": "code",
   "execution_count": 1,
   "metadata": {
    "collapsed": false
   },
   "outputs": [
    {
     "ename": "SyntaxError",
     "evalue": "invalid syntax (<ipython-input-1-c42bca4c5ebe>, line 1)",
     "output_type": "error",
     "traceback": [
      "\u001b[1;36m  File \u001b[1;32m\"<ipython-input-1-c42bca4c5ebe>\"\u001b[1;36m, line \u001b[1;32m1\u001b[0m\n\u001b[1;33m    Create table PartDPrescriberDrugData_Aggregated\u001b[0m\n\u001b[1;37m               ^\u001b[0m\n\u001b[1;31mSyntaxError\u001b[0m\u001b[1;31m:\u001b[0m invalid syntax\n"
     ]
    }
   ],
   "source": [
    "%%sql\n",
    "Create table PartDPrescriberDrugData_Aggregated\n",
    "select ProviderID, DrugName,ProviderFirstName, ProviderLastOrOrgName,\n",
    " sum(TotalClaimCount) as TotalClaimCountAgg ,sum(TotalDrugCost) as TotalDrugCostAgg, sum(BeneCount) as BeneCountAgg,ProviderFirstNameDM,ProviderLastNameDM\n",
    " from PartDPrescriberDrugData\n",
    "group by ProviderID, DrugName;\n"
   ]
  },
  {
   "cell_type": "markdown",
   "metadata": {},
   "source": [
    "### Create aggregate table for Payment data\n",
    "In the original table, one row can contain payment relating to several drugs. We need to break down those amounts into several rows in to a stacked table."
   ]
  },
  {
   "cell_type": "code",
   "execution_count": null,
   "metadata": {
    "collapsed": true
   },
   "outputs": [],
   "source": [
    "%%sql\n",
    "--stack the drug into several rows\n",
    "update  PaymentDetailGeneralALL set CountDrug=((NameOfAssociatedCoveredDrugOrBiological1 <>\" \")+ (NameOfAssociatedCoveredDrugOrBiological2 <>\" \")+(NameOfAssociatedCoveredDrugOrBiological3 <>\" \")+(NameOfAssociatedCoveredDrugOrBiological4 <>\" \")) ;\n",
    "\n",
    "CREATE TABLE PaymentDetailGeneralALL_Stacked\n",
    "Select TeachingHospitalID , TeachingHospitalName , PhysicianProfileID , PhysicianFirstName , PhysicianMiddleName , PhysicianLastName , PhysicianNameSuffix , \n",
    "\tRecipientPrimaryBusinessStreetAddressLine1 , RecipientPrimaryBusinessStreetAddressLine2 , RecipientCity , RecipientState , RecipientZipCode , RecipientCountry , \n",
    "\tRecipientProvince , RecipientPostalCode , PhysicianPrimaryType , PhysicianSpecialty, PhysicianLicenseStateCode1 , PhysicianLicenseStateCode2 , PhysicianLicenseStateCode3 ,\n",
    "\t PhysicianLicenseStateCode4 , SubmittingApplicableManufacturerOrApplicableGPOName , ApplicableManufacturerOrApplicableGPOMakingPaymentID , \n",
    "\t ApplicableManufacturerOrApplicableGPOMakingPaymentName , TotalAmountOfPaymentUSDollars/CountDrug  as PartialAmountOfPaymentUSDollars , DateOfPayment       , \n",
    "\t NumberOfPaymentsIncludedInTotalAmount/CountDrug as PartialNumberOfPaymentsIncludedInTotalAmount, NatureOfPaymentOrTransferOfValue , CityOfTravel , RecordID  , \n",
    "\t ProductIndicator , NameOfAssociatedCoveredDrugOrBiological1 , PhysicianLastNameDM , PhysicianFirstNameDM,CountDrug from PaymentDetailGeneralALL \n",
    "where NameOfAssociatedCoveredDrugOrBiological1 <>\" \" \n",
    "UNION ALL\n",
    "Select TeachingHospitalID , TeachingHospitalName , PhysicianProfileID , PhysicianFirstName , PhysicianMiddleName , PhysicianLastName , PhysicianNameSuffix , RecipientPrimaryBusinessStreetAddressLine1 , RecipientPrimaryBusinessStreetAddressLine2 , RecipientCity , RecipientState , RecipientZipCode , RecipientCountry , RecipientProvince , RecipientPostalCode , PhysicianPrimaryType , PhysicianSpecialty                                     , PhysicianLicenseStateCode1 , PhysicianLicenseStateCode2 , PhysicianLicenseStateCode3 , PhysicianLicenseStateCode4 , SubmittingApplicableManufacturerOrApplicableGPOName , ApplicableManufacturerOrApplicableGPOMakingPaymentID , ApplicableManufacturerOrApplicableGPOMakingPaymentName , TotalAmountOfPaymentUSDollars/CountDrug as PartialAmountOfPaymentUSDollars , DateOfPayment       , NumberOfPaymentsIncludedInTotalAmount/CountDrug as PartialNumberOfPaymentsIncludedInTotalAmount , NatureOfPaymentOrTransferOfValue , CityOfTravel , RecordID  , ProductIndicator , NameOfAssociatedCoveredDrugOrBiological2 , PhysicianLastNameDM , PhysicianFirstNameDM, CountDrug from PaymentDetailGeneralALL\n",
    "where NameOfAssociatedCoveredDrugOrBiological2 <>\" \" \n",
    "UNION ALL\n",
    "Select TeachingHospitalID , TeachingHospitalName , PhysicianProfileID , PhysicianFirstName , PhysicianMiddleName , PhysicianLastName , PhysicianNameSuffix , RecipientPrimaryBusinessStreetAddressLine1 , RecipientPrimaryBusinessStreetAddressLine2 , RecipientCity , RecipientState , RecipientZipCode , RecipientCountry , RecipientProvince , RecipientPostalCode , PhysicianPrimaryType , PhysicianSpecialty                                     , PhysicianLicenseStateCode1 , PhysicianLicenseStateCode2 , PhysicianLicenseStateCode3 , PhysicianLicenseStateCode4 , SubmittingApplicableManufacturerOrApplicableGPOName , ApplicableManufacturerOrApplicableGPOMakingPaymentID , ApplicableManufacturerOrApplicableGPOMakingPaymentName , TotalAmountOfPaymentUSDollars/CountDrug as PartialAmountOfPaymentUSDollars , DateOfPayment       , NumberOfPaymentsIncludedInTotalAmount/CountDrug as PartialNumberOfPaymentsIncludedInTotalAmount , NatureOfPaymentOrTransferOfValue , CityOfTravel , RecordID  , ProductIndicator , NameOfAssociatedCoveredDrugOrBiological3 , PhysicianLastNameDM , PhysicianFirstNameDM, CountDrug from PaymentDetailGeneralALL\n",
    "where NameOfAssociatedCoveredDrugOrBiological3 <>\" \" \n",
    "UNION ALL\n",
    "Select TeachingHospitalID , TeachingHospitalName , PhysicianProfileID , PhysicianFirstName , PhysicianMiddleName , PhysicianLastName , PhysicianNameSuffix , RecipientPrimaryBusinessStreetAddressLine1 , RecipientPrimaryBusinessStreetAddressLine2 , RecipientCity , RecipientState , RecipientZipCode , RecipientCountry , RecipientProvince , RecipientPostalCode , PhysicianPrimaryType , PhysicianSpecialty                                     , PhysicianLicenseStateCode1 , PhysicianLicenseStateCode2 , PhysicianLicenseStateCode3 , PhysicianLicenseStateCode4 , SubmittingApplicableManufacturerOrApplicableGPOName , ApplicableManufacturerOrApplicableGPOMakingPaymentID , ApplicableManufacturerOrApplicableGPOMakingPaymentName , TotalAmountOfPaymentUSDollars/CountDrug as PartialAmountOfPaymentUSDollars , DateOfPayment       , NumberOfPaymentsIncludedInTotalAmount/CountDrug as PartialNumberOfPaymentsIncludedInTotalAmount , NatureOfPaymentOrTransferOfValue , CityOfTravel , RecordID  , ProductIndicator , NameOfAssociatedCoveredDrugOrBiological4 , PhysicianLastNameDM , PhysicianFirstNameDM, CountDrug from PaymentDetailGeneralALL\n",
    "where NameOfAssociatedCoveredDrugOrBiological4 <>\" \"\n"
   ]
  },
  {
   "cell_type": "code",
   "execution_count": null,
   "metadata": {
    "collapsed": true
   },
   "outputs": [],
   "source": [
    "%%sql\n",
    "-- Aggregate data on Physician, Drug and Pharma company\n",
    "create table PaymentDetailGeneralALL_Aggregated\n",
    "select PhysicianProfileID,PhysicianFirstName,PhysicianLastName,RecipientZipCode,RecipientCountry,PhysicianSpecialty, SubmittingApplicableManufacturerOrApplicableGPOName,\n",
    "ApplicableManufacturerOrApplicableGPOMakingPaymentName,NameOfAssociatedCoveredDrugOrBiological1, sum(PartialNumberOfPaymentsIncludedInTotalAmount) as NumberOfPaymentsIncludedInTotalAmountAgg,\n",
    "sum(PartialAmountOfPaymentUSDollars) as AmountOfPaymentUSDollarsAgg,PhysicianLastNameDM , PhysicianFirstNameDM\n",
    "from PaymentDetailGeneralALL_Stacked group by PhysicianProfileID,ApplicableManufacturerOrApplicableGPOMakingPaymentID, NameOfAssociatedCoveredDrugOrBiological1\n",
    "\n"
   ]
  },
  {
   "cell_type": "markdown",
   "metadata": {},
   "source": [
    "We are working on joining the aggregated table so we need to recreate the metaphones."
   ]
  },
  {
   "cell_type": "code",
   "execution_count": null,
   "metadata": {
    "collapsed": true
   },
   "outputs": [],
   "source": [
    "\n",
    "%%sql\n",
    "-- Add extra column to store the metaphones\n",
    "ALTER TABLE PartDPrescriberDrugData_Aggregated ADD COLUMN ProviderLastNameDM varchar(20), ADD COLUMN ProviderFirstNameDM varchar(20);\n",
    "ALTER TABLE PaymentDetailGeneralALL_Aggregated ADD COLUMN PhysicianLastNameDM varchar(20), ADD COLUMN PhysicianFirstNameDM varchar(20);\n",
    "\n",
    "-- update the new fields with metaphones of lastname and firstname of provider/physican\n",
    "update PartDPrescriberDrugData_Aggregated set ProviderLastNameDM= dm(ProviderLastOrOrgName),  ProviderFirstNameDM=dm(ProviderFirstName);\n",
    "update PaymentDetailGeneralALL_Aggregated set PhysicianFirstNameDM= dm(PhysicianFirstName),  PhysicianLastNameDM= dm(PhysicianLastName);\n",
    "\n"
   ]
  },
  {
   "cell_type": "markdown",
   "metadata": {},
   "source": [
    "# Adding zipcode\n",
    "Joining the physician solely on the metaphone is too loose. We need to include the zipcode in the join criteria."
   ]
  },
  {
   "cell_type": "code",
   "execution_count": null,
   "metadata": {
    "collapsed": true
   },
   "outputs": [],
   "source": [
    "%%sql\n",
    "-- Need to get this from another flat file, first we create a new table to hold this data\n",
    "CREATE  TABLE   PartDPrescriberDrugDataWithZip (\n",
    "    ProviderID  VARCHAR(10),    \n",
    "    ProviderLastOrOrgName   VARCHAR(67),    \n",
    "    ProviderFirstName   VARCHAR(20),    \n",
    "    ProviderMi  VARCHAR(20),    \n",
    "    ProviderCredentials VARCHAR(20),    \n",
    "    ProviderGender  VARCHAR(20),    \n",
    "    EntityCode  VARCHAR(20),    \n",
    "    ProviderStreet1 VARCHAR(20),    \n",
    "    ProviderStreet2 VARCHAR(20),    \n",
    "    ProviderCity    VARCHAR(28),    \n",
    "    ProviderZip VARCHAR(20),    \n",
    "    ProviderState   VARCHAR(2), \n",
    "    ProviderCountry VARCHAR(20),    \n",
    "    SpecialtyDescription    VARCHAR(91),    \n",
    "    DescriptionFlag VARCHAR(1), \n",
    "    BeneCount   VARCHAR(20),    \n",
    "    TOTALCLAIMCOUN  VARCHAR(20),    \n",
    "    TOTALDRUGCOST   VARCHAR(20),    \n",
    "    TOTALDAYSUPPLY  VARCHAR(20),    \n",
    "    BENECOUNTGE65   VARCHAR(20),    \n",
    "    BENECOUNTGE65REDACTFLAG VARCHAR(20),    \n",
    "    TOTALCLAIMCOUNTGE65 VARCHAR(20),    \n",
    "    GE65REDACTFLAG  VARCHAR(20),    \n",
    "    TOTALDRUGCOSTGE65   VARCHAR(20),    \n",
    "    TOTALDAYSUPPLYGE65  VARCHAR(20),    \n",
    "    BRANDCLAIMCOUNT VARCHAR(20),    \n",
    "    BRANDREDACTFLAG VARCHAR(20),    \n",
    "    BRANDCLAIMCOST  VARCHAR(20),    \n",
    "    GENERICCLAIMCOUNT   VARCHAR(20),    \n",
    "    GENERICREDACTFLAG   VARCHAR(20),    \n",
    "    GENERICCLAIMCOST    VARCHAR(20),    \n",
    "    OTHERCLAIMCOUNT VARCHAR(20),    \n",
    "    OTHERREDACTFLAG VARCHAR(20),    \n",
    "    OTHERCLAIMCOST  VARCHAR(20),    \n",
    "    MAPDCLAIMCOUNT  VARCHAR(20),    \n",
    "    MAPDREDACTFLAG  VARCHAR(20),    \n",
    "    MAPDCLAIMCOST   VARCHAR(20),    \n",
    "    PDPCLAIMCOUNT   VARCHAR(20),    \n",
    "    PDPREDACTFLAG   VARCHAR(20),    \n",
    "    PDPCLAIMCOST    VARCHAR(20),    \n",
    "    LISCLAIMCOUNT   VARCHAR(20),    \n",
    "    LISREDACTFLAG   VARCHAR(20),    \n",
    "    LISCLAIMCOST    VARCHAR(20),    \n",
    "    NONLISCLAIMCOUNT    VARCHAR(20),    \n",
    "    NONLISREDACTFLAG    VARCHAR(20),    \n",
    "    NONLISCLAIMCOST VARCHAR(20) \n",
    ");        \n",
    "\n",
    "\n",
    "LOAD DATA LOCAL INFILE '/root/data/PARTD_PRESCRIBER_PUF_NPI_13.tab'\n",
    "    INTO TABLE final.PartDPrescriberDrugDataWithZip\n",
    "    FIELDS TERMINATED BY '\\t'\n",
    "    LINES TERMINATED BY '\\r\\n'\n",
    "    IGNORE 1 ROWS;"
   ]
  },
  {
   "cell_type": "code",
   "execution_count": null,
   "metadata": {
    "collapsed": true
   },
   "outputs": [],
   "source": [
    "%%sql\n",
    "\n",
    "--clean the data\n",
    "alter table PartDPrescriberDrugDataWithZip add column ProviderZipShort varchar(10);\n",
    "update PartDPrescriberDrugDataWithZip set ProviderZipShort=left(ProviderZip,5)\n",
    "\n",
    "-- create indexes\n",
    "CREATE INDEX zipcode ON PartDPrescriberDrugDataWithZip(ProviderZipShort);\n",
    "CREATE INDEX id ON PartDPrescriberDrugDataWithZip(ProviderId);\n",
    "CREATE INDEX id ON PartDPrescriberDrugData_Aggregated(ProviderId);\n",
    "CREATE INDEX zipcode ON PartDPrescriberDrugData_Aggregated(ProviderZip);\n",
    "\n",
    "--update the zipcode\n",
    "alter table PartDPrescriberDrugData_Aggregated add column ProviderZip varchar(10);\n",
    "update PartDPrescriberDrugData_Aggregated as t1,(select ProviderId, ProviderZipShort from PartDPrescriberDrugDataWithZip ) t2 set t1.ProviderZip=t2.ProviderZipShort where t1.ProviderId= t2.ProviderId;\n",
    "\n",
    "\n"
   ]
  },
  {
   "cell_type": "markdown",
   "metadata": {},
   "source": [
    "### First join attempt"
   ]
  },
  {
   "cell_type": "code",
   "execution_count": null,
   "metadata": {
    "collapsed": true
   },
   "outputs": [],
   "source": [
    "%%sql\n",
    "-- Create some indexes\n",
    "CREATE INDEX zipcode ON PaymentDetailGeneralALL_Aggregated(RecipientZipCode);\n",
    "CREATE INDEX ProviderNameDM ON PartDPrescriberDrugData_Aggregated(ProviderFirstNameDM,ProviderLastNameDM);\n",
    "CREATE INDEX PhysicianNameDM ON PaymentDetailGeneralALL_Aggregated(PhysicianFirstNameDM,PhysicianLastNameDM);\n",
    "CREATE INDEX Drug ON PartDPrescriberDrugData_Aggregated(DrugName);\n",
    "CREATE INDEX Drug ON PaymentDetailGeneralALL_Aggregated(NameOfAssociatedCoveredDrugOrBiological1);\n",
    "\n",
    "create table OpenPaymentPrescrJoin\n",
    "\tselect PhysicianFirstName,PhysicianLastName,ProviderFirstName,ProviderLastOrOrgName, RecipientZipCode,RecipientCountry,PhysicianSpecialty,\n",
    "\tSubmittingApplicableManufacturerOrApplicableGPOName,NameOfAssociatedCoveredDrugOrBiological1, \n",
    "\tNumberOfPaymentsIncludedInTotalAmountAgg,AmountOfPaymentUSDollarsAgg,PhysicianLastNameDM , \n",
    "\tPhysicianFirstNameDM, TotalClaimCountAgg, TotalDrugCostAgg, BeneCountAgg\n",
    "\tfrom PaymentDetailGeneralALL_Aggregated inner join  PartDPrescriberDrugData_Aggregated on\n",
    "\tCONCAT(PhysicianFirstNameDM,PhysicianLastNameDM)=CONCAT(ProviderFirstNameDM,ProviderLastNameDM) and NameOfAssociatedCoveredDrugOrBiological1=DrugName and ProviderZip=RecipientZipCode\n",
    "\n"
   ]
  },
  {
   "cell_type": "code",
   "execution_count": null,
   "metadata": {
    "collapsed": true
   },
   "outputs": [],
   "source": [
    "%%sql\n",
    "--- Testing\n",
    "\n",
    "select * from PartDPrescriberDrugData_Aggregated where ProviderLastNameDM=\"STOKES\" and ProviderFirstNameDM= \"GEORGE\"\n",
    "\n",
    "select distinct PhysicianProfileID,PhysicianFirstName,PhysicianLastName,PhysicianFirstNameDM,PhysicianLastNameDM, RecipientZipCode from PaymentDetailGeneralALL_Aggregated where PhysicianProfileID=\"263627\" \n",
    "select distinct ProviderID, ProviderFirstName,ProviderLastOrOrgName,ProviderFirstNameDM,ProviderLastNameDM,ProviderZip from PartDPrescriberDrugData_Aggregated where ProviderID = \"1811984487\" \n"
   ]
  },
  {
   "cell_type": "markdown",
   "metadata": {},
   "source": [
    "### Join improvements\n",
    "Some physicians have at least one row with a successful join. We can exploit this fact to join the missing rows. We first extract the ProviderID from the PartD Prescription data and store it inside a successful joined row in the Payment table."
   ]
  },
  {
   "cell_type": "code",
   "execution_count": null,
   "metadata": {
    "collapsed": true
   },
   "outputs": [],
   "source": [
    "%%sql\n",
    "\n",
    "alter table PaymentDetailGeneralALL_Aggregated add column PartD_ProviderID varchar(20);$\n",
    "\n",
    "update PaymentDetailGeneralALL_Aggregated as t1, \n",
    "(select ProviderID,ProviderFirstName,ProviderLastOrOrgName,ProviderFirstNameDM,\n",
    " ProviderLastNameDM, ProviderZip, DrugName from PartDPrescriberDrugData_Aggregated) as t2 \n",
    "set t1.PartD_ProviderID=t2.ProviderID \n",
    "where CONCAT(PhysicianFirstNameDM,PhysicianLastNameDM)=CONCAT(ProviderFirstNameDM,ProviderLastNameDM) \n",
    "and NameOfAssociatedCoveredDrugOrBiological1=DrugName and ProviderZip=RecipientZipCode"
   ]
  },
  {
   "cell_type": "markdown",
   "metadata": {},
   "source": [
    "For the successful joined rows, we replicate the ProviderID across physician with the help of the Physician ID which is an unique identifier."
   ]
  },
  {
   "cell_type": "code",
   "execution_count": null,
   "metadata": {
    "collapsed": true
   },
   "outputs": [],
   "source": [
    "%%sql\n",
    "create index ProviderID on PaymentDetailGeneralALL_Aggregated(PartD_ProviderID);\n",
    "create index PhysicianID on PaymentDetailGeneralALL_Aggregated(PhysicianProfileID);\n",
    "\n",
    "update PaymentDetailGeneralALL_Aggregated as t1,(\n",
    "select  PartD_ProviderID,PhysicianProfileID from PaymentDetailGeneralALL_Aggregated where not(isnull(PartD_ProviderID)))  as t2\n",
    "set t1.PartD_ProviderID= t2.PartD_ProviderID where t1.PhysicianProfileID=t2.PhysicianProfileID ;\n"
   ]
  },
  {
   "cell_type": "markdown",
   "metadata": {},
   "source": [
    "### Second Join attempt"
   ]
  },
  {
   "cell_type": "code",
   "execution_count": null,
   "metadata": {
    "collapsed": true
   },
   "outputs": [],
   "source": []
  },
  {
   "cell_type": "code",
   "execution_count": null,
   "metadata": {
    "collapsed": true
   },
   "outputs": [],
   "source": [
    "%%sql\n",
    "create table OpenPaymentPrescrJoin3\n",
    "\tselect PhysicianFirstName,PhysicianLastName,ProviderFirstName,ProviderLastOrOrgName, RecipientZipCode,RecipientCountry,PhysicianSpecialty,\n",
    "\tSubmittingApplicableManufacturerOrApplicableGPOName,NameOfAssociatedCoveredDrugOrBiological1, \n",
    "\tNumberOfPaymentsIncludedInTotalAmountAgg,AmountOfPaymentUSDollarsAgg,PhysicianLastNameDM , \n",
    "\tPhysicianFirstNameDM, TotalClaimCountAgg, TotalDrugCostAgg, BeneCountAgg\n",
    "\tfrom PaymentDetailGeneralALL_Aggregated inner join  PartDPrescriberDrugData_Aggregated on PaymentDetailGeneralALL_Aggregated.PartD_ProviderID=PartDPrescriberDrugData_Aggregated.ProviderID and NameOfAssociatedCoveredDrugOrBiological1=DrugName;\n"
   ]
  },
  {
   "cell_type": "markdown",
   "metadata": {},
   "source": [
    "### Testing"
   ]
  },
  {
   "cell_type": "code",
   "execution_count": null,
   "metadata": {
    "collapsed": true
   },
   "outputs": [],
   "source": [
    "%%sql\n",
    "select count(*) from OpenPaymentPrescrJoin2 where isnull(ProviderFirstName)\n",
    "select PhysicianFirstName, PhysicianLastName,ProviderFirstName, ProviderLastOrOrgName, NameOfAssociatedCoveredDrugOrBiological1,SubmittingApplicableManufacturerOrApplicableGPOName from OpenPaymentPrescrJoin2 where PhysicianLastName like \"AWERBUCH%\"\n"
   ]
  },
  {
   "cell_type": "markdown",
   "metadata": {},
   "source": [
    "### Join Improvements\n",
    "We notice that the drug name are not standardized. We use a table of drug approved from the FDA and use it to normalize the data."
   ]
  },
  {
   "cell_type": "code",
   "execution_count": null,
   "metadata": {
    "collapsed": true
   },
   "outputs": [],
   "source": [
    "%%sql\n",
    "CREATE  TABLE   NDCDrug (\n",
    "    PRODUCTNDC  VARCHAR(10) PRIMARY KEY,    \n",
    "    PROPRIETARYNAME   VARCHAR(50),    \n",
    "    NONPROPRIETARYNAME   VARCHAR(500));\n",
    "\n",
    "\n",
    "\n",
    "alter table NDCDrug modify column NONPROPRIETARYNAME varchar(50);\n",
    "alter table NDCDrug modify column PROPRIETARYNAME varchar(500);\n",
    "create index DrugName on NDCDrug(PROPRIETARYNAME)\n",
    "\n",
    "LOAD DATA LOCAL INFILE '/root/data/NDC_Lookup.csv'\n",
    "    INTO TABLE final.NDCDrug\n",
    "    FIELDS TERMINATED BY ',' OPTIONALLY ENCLOSED BY '\"'\n",
    "    LINES TERMINATED BY '\\n'\n",
    "    IGNORE 1 ROWS;\n",
    "\n",
    "--remove the rows with duplicate drug name\n",
    "ALTER IGNORE TABLE NDCDrug ADD UNIQUE (PROPRIETARYNAME)\n"
   ]
  },
  {
   "cell_type": "code",
   "execution_count": null,
   "metadata": {
    "collapsed": true
   },
   "outputs": [],
   "source": [
    "%%sql\n",
    "alter table PaymentDetailGeneralALL_Aggregated add column drugNorm varchar(20);\n",
    "\n",
    "update PaymentDetailGeneralALL_Aggregated as t1, NDCDrug as t2 set drugNorm=PRODUCTNDC where PROPRIETARYNAME = NameOfAssociatedCoveredDrugOrBiological1\n",
    "\n",
    "Create index drugNorm on PaymentDetailGeneralALL_Aggregated(drugNorm)\n",
    "\n"
   ]
  },
  {
   "cell_type": "markdown",
   "metadata": {},
   "source": [
    "We add another lookup that matches only the drug first word. We use an UDC found here http://blog.fedecarg.com/2009/02/22/mysql-split-string-function/"
   ]
  },
  {
   "cell_type": "code",
   "execution_count": null,
   "metadata": {
    "collapsed": true
   },
   "outputs": [],
   "source": [
    "%%sql source splitString.sql"
   ]
  },
  {
   "cell_type": "code",
   "execution_count": null,
   "metadata": {
    "collapsed": true
   },
   "outputs": [],
   "source": [
    "%% sql\n",
    "alter table PaymentDetailGeneralALL_Aggregated add column drugFW varchar(20);\n",
    "alter table NDCDrug add column drugFW varchar(20);\n",
    "\n",
    "update PaymentDetailGeneralALL_Aggregated set drugFW =split_str(NameOfAssociatedCoveredDrugOrBiological1,' ',1);\n",
    "update NDCDrug set drugFW =split_str(PROPRIETARYNAME,' ',1);\n",
    "\n",
    "create index firstword on NDCDrug(drugFW)\n",
    "create index firstword on PaymentDetailGeneralALL_Aggregated(NameOfAssociatedCoveredDrugOrBiological1)\n"
   ]
  },
  {
   "cell_type": "code",
   "execution_count": null,
   "metadata": {
    "collapsed": true
   },
   "outputs": [],
   "source": [
    "%%sql\n",
    "update PaymentDetailGeneralALL_Aggregated as t1, NDCDrug as t2 set drugNorm=PRODUCTNDC where t1.drugFW =  t2.drugFW and isnull(drugNorm)"
   ]
  }
 ],
 "metadata": {
  "kernelspec": {
   "display_name": "Python 2",
   "language": "python",
   "name": "python2"
  },
  "language_info": {
   "codemirror_mode": {
    "name": "ipython",
    "version": 2
   },
   "file_extension": ".py",
   "mimetype": "text/x-python",
   "name": "python",
   "nbconvert_exporter": "python",
   "pygments_lexer": "ipython2",
   "version": "2.7.5"
  }
 },
 "nbformat": 4,
 "nbformat_minor": 0
}
